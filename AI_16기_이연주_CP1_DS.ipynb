{
  "nbformat": 4,
  "nbformat_minor": 0,
  "metadata": {
    "colab": {
      "provenance": []
    },
    "kernelspec": {
      "name": "python3",
      "display_name": "Python 3"
    },
    "language_info": {
      "name": "python"
    }
  },
  "cells": [
    {
      "cell_type": "code",
      "source": [
        "import pandas as pd\n",
        "\n",
        "data=pd.read_csv('CP1_df_data.csv')\n",
        "data.drop(['Unnamed: 0'], axis=1, inplace=True)\n",
        "data"
      ],
      "metadata": {
        "colab": {
          "base_uri": "https://localhost:8080/",
          "height": 641
        },
        "id": "iedwhWKhdQYQ",
        "outputId": "3fc79be4-d0e7-4524-b752-a4d7a739c5b0"
      },
      "execution_count": 1,
      "outputs": [
        {
          "output_type": "execute_result",
          "data": {
            "text/plain": [
              "                                                passage  \\\n",
              "0     새해 주요 기업들의 신년사 화두는 단연 ‘생존’이었다.,  미래 먹거리 부재, 중국...   \n",
              "1     매년 빠지지 않는 새해 3대 결심으로 금주·금연·다이어트가 꼽힐 정도로 건강 문제는...   \n",
              "2     지난해 12월 31일 성동구 마장동의 한 아파트 지하 공용 보일러실에서 불이 나 주...   \n",
              "3     “반도체 가격이 상승 전환될 것이라고 보는 게 글로벌 전망 기관의 지배적 견해다.,...   \n",
              "4     학대·유기·이혼·빈곤 등의 이유로 아동보호시설에 보내진 영·유아가 열악한 환경에서 ...   \n",
              "...                                                 ...   \n",
              "1995  훌루말레의 수상 비행장.,이곳은 장거리를 여행하는 사람들이 이용하는 곳이다.,특히 ...   \n",
              "1996  안내인은 금 채취의 특징을 설명했다.,이곳의 금 채취는 슬루싱이라는 방식을 사용했단...   \n",
              "1997  흐름을 거스르는 일은 쉽지 않아 보인다.,나일강 물결 위에서 할 수 있는 스포츠가 ...   \n",
              "1998  잠시 마음을 놓는 순간 거세지는 게 ,이곳의 바람.,마을을 떠나는 길에는 구름까지 ...   \n",
              "1999  크라이스트처치는 악몽과 같았을 지진에서 벗어난 듯 보였다.,지진 희생자들을 위한 추...   \n",
              "\n",
              "                                                summary  \n",
              "0     새해 주요 기업들의 신년사 화두는 단연 생존이었고 미래 먹거리 부재 규제로 인한 신...  \n",
              "1     엔도르핀 등을 분비하고 면역력을 강화하는 효과가 있는 웃음에 대해 자생한방병원 박 ...  \n",
              "2     성동구 마장동의 한 아파트 지하 공용 보일러실에서 불이 나 가스와 전기 수도가 끊겼...  \n",
              "3     정부는 반도체 업황 회복 가능성에 크게 기대하고 있으며 여러 전문가과 기관도 반도체...  \n",
              "4     육아정책연구소 이 연구위원은 아동보호시설에 대한 보고서에서 영유아가 열악한 환경에서...  \n",
              "...                                                 ...  \n",
              "1995             호화 리조트로 유명한 낭갈리 섬에는 수상레저를 즐기는 사람들이 많다.  \n",
              "1996  뉴질랜드 서부는 골드러시가 일어나면서 개발되기 시작했고 1876년을 마지막으로 금광...  \n",
              "1997                         나일강은 레프팅 마니아들에게 세계적인 명소이다.  \n",
              "1998  마젤란 펭귄은 매년 같은 집에서 같은 암수가 만나 새끼를 낳고 여름 내내 수영을 가...  \n",
              "1999  뉴질랜드의 아카로아는 프랑스 정착민들이 먼저 들어와 살던 곳으로 곳곳에 프랑스적인 ...  \n",
              "\n",
              "[2000 rows x 2 columns]"
            ],
            "text/html": [
              "\n",
              "  <div id=\"df-4a38c7cc-b2f6-4cb5-8bdf-a45abb0d8911\">\n",
              "    <div class=\"colab-df-container\">\n",
              "      <div>\n",
              "<style scoped>\n",
              "    .dataframe tbody tr th:only-of-type {\n",
              "        vertical-align: middle;\n",
              "    }\n",
              "\n",
              "    .dataframe tbody tr th {\n",
              "        vertical-align: top;\n",
              "    }\n",
              "\n",
              "    .dataframe thead th {\n",
              "        text-align: right;\n",
              "    }\n",
              "</style>\n",
              "<table border=\"1\" class=\"dataframe\">\n",
              "  <thead>\n",
              "    <tr style=\"text-align: right;\">\n",
              "      <th></th>\n",
              "      <th>passage</th>\n",
              "      <th>summary</th>\n",
              "    </tr>\n",
              "  </thead>\n",
              "  <tbody>\n",
              "    <tr>\n",
              "      <th>0</th>\n",
              "      <td>새해 주요 기업들의 신년사 화두는 단연 ‘생존’이었다.,  미래 먹거리 부재, 중국...</td>\n",
              "      <td>새해 주요 기업들의 신년사 화두는 단연 생존이었고 미래 먹거리 부재 규제로 인한 신...</td>\n",
              "    </tr>\n",
              "    <tr>\n",
              "      <th>1</th>\n",
              "      <td>매년 빠지지 않는 새해 3대 결심으로 금주·금연·다이어트가 꼽힐 정도로 건강 문제는...</td>\n",
              "      <td>엔도르핀 등을 분비하고 면역력을 강화하는 효과가 있는 웃음에 대해 자생한방병원 박 ...</td>\n",
              "    </tr>\n",
              "    <tr>\n",
              "      <th>2</th>\n",
              "      <td>지난해 12월 31일 성동구 마장동의 한 아파트 지하 공용 보일러실에서 불이 나 주...</td>\n",
              "      <td>성동구 마장동의 한 아파트 지하 공용 보일러실에서 불이 나 가스와 전기 수도가 끊겼...</td>\n",
              "    </tr>\n",
              "    <tr>\n",
              "      <th>3</th>\n",
              "      <td>“반도체 가격이 상승 전환될 것이라고 보는 게 글로벌 전망 기관의 지배적 견해다.,...</td>\n",
              "      <td>정부는 반도체 업황 회복 가능성에 크게 기대하고 있으며 여러 전문가과 기관도 반도체...</td>\n",
              "    </tr>\n",
              "    <tr>\n",
              "      <th>4</th>\n",
              "      <td>학대·유기·이혼·빈곤 등의 이유로 아동보호시설에 보내진 영·유아가 열악한 환경에서 ...</td>\n",
              "      <td>육아정책연구소 이 연구위원은 아동보호시설에 대한 보고서에서 영유아가 열악한 환경에서...</td>\n",
              "    </tr>\n",
              "    <tr>\n",
              "      <th>...</th>\n",
              "      <td>...</td>\n",
              "      <td>...</td>\n",
              "    </tr>\n",
              "    <tr>\n",
              "      <th>1995</th>\n",
              "      <td>훌루말레의 수상 비행장.,이곳은 장거리를 여행하는 사람들이 이용하는 곳이다.,특히 ...</td>\n",
              "      <td>호화 리조트로 유명한 낭갈리 섬에는 수상레저를 즐기는 사람들이 많다.</td>\n",
              "    </tr>\n",
              "    <tr>\n",
              "      <th>1996</th>\n",
              "      <td>안내인은 금 채취의 특징을 설명했다.,이곳의 금 채취는 슬루싱이라는 방식을 사용했단...</td>\n",
              "      <td>뉴질랜드 서부는 골드러시가 일어나면서 개발되기 시작했고 1876년을 마지막으로 금광...</td>\n",
              "    </tr>\n",
              "    <tr>\n",
              "      <th>1997</th>\n",
              "      <td>흐름을 거스르는 일은 쉽지 않아 보인다.,나일강 물결 위에서 할 수 있는 스포츠가 ...</td>\n",
              "      <td>나일강은 레프팅 마니아들에게 세계적인 명소이다.</td>\n",
              "    </tr>\n",
              "    <tr>\n",
              "      <th>1998</th>\n",
              "      <td>잠시 마음을 놓는 순간 거세지는 게 ,이곳의 바람.,마을을 떠나는 길에는 구름까지 ...</td>\n",
              "      <td>마젤란 펭귄은 매년 같은 집에서 같은 암수가 만나 새끼를 낳고 여름 내내 수영을 가...</td>\n",
              "    </tr>\n",
              "    <tr>\n",
              "      <th>1999</th>\n",
              "      <td>크라이스트처치는 악몽과 같았을 지진에서 벗어난 듯 보였다.,지진 희생자들을 위한 추...</td>\n",
              "      <td>뉴질랜드의 아카로아는 프랑스 정착민들이 먼저 들어와 살던 곳으로 곳곳에 프랑스적인 ...</td>\n",
              "    </tr>\n",
              "  </tbody>\n",
              "</table>\n",
              "<p>2000 rows × 2 columns</p>\n",
              "</div>\n",
              "      <button class=\"colab-df-convert\" onclick=\"convertToInteractive('df-4a38c7cc-b2f6-4cb5-8bdf-a45abb0d8911')\"\n",
              "              title=\"Convert this dataframe to an interactive table.\"\n",
              "              style=\"display:none;\">\n",
              "        \n",
              "  <svg xmlns=\"http://www.w3.org/2000/svg\" height=\"24px\"viewBox=\"0 0 24 24\"\n",
              "       width=\"24px\">\n",
              "    <path d=\"M0 0h24v24H0V0z\" fill=\"none\"/>\n",
              "    <path d=\"M18.56 5.44l.94 2.06.94-2.06 2.06-.94-2.06-.94-.94-2.06-.94 2.06-2.06.94zm-11 1L8.5 8.5l.94-2.06 2.06-.94-2.06-.94L8.5 2.5l-.94 2.06-2.06.94zm10 10l.94 2.06.94-2.06 2.06-.94-2.06-.94-.94-2.06-.94 2.06-2.06.94z\"/><path d=\"M17.41 7.96l-1.37-1.37c-.4-.4-.92-.59-1.43-.59-.52 0-1.04.2-1.43.59L10.3 9.45l-7.72 7.72c-.78.78-.78 2.05 0 2.83L4 21.41c.39.39.9.59 1.41.59.51 0 1.02-.2 1.41-.59l7.78-7.78 2.81-2.81c.8-.78.8-2.07 0-2.86zM5.41 20L4 18.59l7.72-7.72 1.47 1.35L5.41 20z\"/>\n",
              "  </svg>\n",
              "      </button>\n",
              "      \n",
              "  <style>\n",
              "    .colab-df-container {\n",
              "      display:flex;\n",
              "      flex-wrap:wrap;\n",
              "      gap: 12px;\n",
              "    }\n",
              "\n",
              "    .colab-df-convert {\n",
              "      background-color: #E8F0FE;\n",
              "      border: none;\n",
              "      border-radius: 50%;\n",
              "      cursor: pointer;\n",
              "      display: none;\n",
              "      fill: #1967D2;\n",
              "      height: 32px;\n",
              "      padding: 0 0 0 0;\n",
              "      width: 32px;\n",
              "    }\n",
              "\n",
              "    .colab-df-convert:hover {\n",
              "      background-color: #E2EBFA;\n",
              "      box-shadow: 0px 1px 2px rgba(60, 64, 67, 0.3), 0px 1px 3px 1px rgba(60, 64, 67, 0.15);\n",
              "      fill: #174EA6;\n",
              "    }\n",
              "\n",
              "    [theme=dark] .colab-df-convert {\n",
              "      background-color: #3B4455;\n",
              "      fill: #D2E3FC;\n",
              "    }\n",
              "\n",
              "    [theme=dark] .colab-df-convert:hover {\n",
              "      background-color: #434B5C;\n",
              "      box-shadow: 0px 1px 3px 1px rgba(0, 0, 0, 0.15);\n",
              "      filter: drop-shadow(0px 1px 2px rgba(0, 0, 0, 0.3));\n",
              "      fill: #FFFFFF;\n",
              "    }\n",
              "  </style>\n",
              "\n",
              "      <script>\n",
              "        const buttonEl =\n",
              "          document.querySelector('#df-4a38c7cc-b2f6-4cb5-8bdf-a45abb0d8911 button.colab-df-convert');\n",
              "        buttonEl.style.display =\n",
              "          google.colab.kernel.accessAllowed ? 'block' : 'none';\n",
              "\n",
              "        async function convertToInteractive(key) {\n",
              "          const element = document.querySelector('#df-4a38c7cc-b2f6-4cb5-8bdf-a45abb0d8911');\n",
              "          const dataTable =\n",
              "            await google.colab.kernel.invokeFunction('convertToInteractive',\n",
              "                                                     [key], {});\n",
              "          if (!dataTable) return;\n",
              "\n",
              "          const docLinkHtml = 'Like what you see? Visit the ' +\n",
              "            '<a target=\"_blank\" href=https://colab.research.google.com/notebooks/data_table.ipynb>data table notebook</a>'\n",
              "            + ' to learn more about interactive tables.';\n",
              "          element.innerHTML = '';\n",
              "          dataTable['output_type'] = 'display_data';\n",
              "          await google.colab.output.renderOutput(dataTable, element);\n",
              "          const docLink = document.createElement('div');\n",
              "          docLink.innerHTML = docLinkHtml;\n",
              "          element.appendChild(docLink);\n",
              "        }\n",
              "      </script>\n",
              "    </div>\n",
              "  </div>\n",
              "  "
            ]
          },
          "metadata": {},
          "execution_count": 1
        }
      ]
    },
    {
      "cell_type": "code",
      "source": [
        "!pip install transformers"
      ],
      "metadata": {
        "colab": {
          "base_uri": "https://localhost:8080/"
        },
        "id": "3RUP8HLMdYin",
        "outputId": "86b281d3-b914-442c-865f-0b4d73927a5a"
      },
      "execution_count": 2,
      "outputs": [
        {
          "output_type": "stream",
          "name": "stdout",
          "text": [
            "Looking in indexes: https://pypi.org/simple, https://us-python.pkg.dev/colab-wheels/public/simple/\n",
            "Requirement already satisfied: transformers in /usr/local/lib/python3.9/dist-packages (4.27.2)\n",
            "Requirement already satisfied: pyyaml>=5.1 in /usr/local/lib/python3.9/dist-packages (from transformers) (6.0)\n",
            "Requirement already satisfied: filelock in /usr/local/lib/python3.9/dist-packages (from transformers) (3.10.0)\n",
            "Requirement already satisfied: regex!=2019.12.17 in /usr/local/lib/python3.9/dist-packages (from transformers) (2022.10.31)\n",
            "Requirement already satisfied: requests in /usr/local/lib/python3.9/dist-packages (from transformers) (2.27.1)\n",
            "Requirement already satisfied: numpy>=1.17 in /usr/local/lib/python3.9/dist-packages (from transformers) (1.22.4)\n",
            "Requirement already satisfied: tqdm>=4.27 in /usr/local/lib/python3.9/dist-packages (from transformers) (4.65.0)\n",
            "Requirement already satisfied: packaging>=20.0 in /usr/local/lib/python3.9/dist-packages (from transformers) (23.0)\n",
            "Requirement already satisfied: huggingface-hub<1.0,>=0.11.0 in /usr/local/lib/python3.9/dist-packages (from transformers) (0.13.3)\n",
            "Requirement already satisfied: tokenizers!=0.11.3,<0.14,>=0.11.1 in /usr/local/lib/python3.9/dist-packages (from transformers) (0.13.2)\n",
            "Requirement already satisfied: typing-extensions>=3.7.4.3 in /usr/local/lib/python3.9/dist-packages (from huggingface-hub<1.0,>=0.11.0->transformers) (4.5.0)\n",
            "Requirement already satisfied: charset-normalizer~=2.0.0 in /usr/local/lib/python3.9/dist-packages (from requests->transformers) (2.0.12)\n",
            "Requirement already satisfied: certifi>=2017.4.17 in /usr/local/lib/python3.9/dist-packages (from requests->transformers) (2022.12.7)\n",
            "Requirement already satisfied: urllib3<1.27,>=1.21.1 in /usr/local/lib/python3.9/dist-packages (from requests->transformers) (1.26.15)\n",
            "Requirement already satisfied: idna<4,>=2.5 in /usr/local/lib/python3.9/dist-packages (from requests->transformers) (3.4)\n"
          ]
        }
      ]
    },
    {
      "cell_type": "code",
      "source": [
        "!pip install sentencepiece"
      ],
      "metadata": {
        "colab": {
          "base_uri": "https://localhost:8080/"
        },
        "id": "aCUqrCgPjltL",
        "outputId": "bed47131-6612-44a5-ce14-94fd6e6a8398"
      },
      "execution_count": 10,
      "outputs": [
        {
          "output_type": "stream",
          "name": "stdout",
          "text": [
            "Looking in indexes: https://pypi.org/simple, https://us-python.pkg.dev/colab-wheels/public/simple/\n",
            "Collecting sentencepiece\n",
            "  Downloading sentencepiece-0.1.97-cp39-cp39-manylinux_2_17_x86_64.manylinux2014_x86_64.whl (1.3 MB)\n",
            "\u001b[2K     \u001b[90m━━━━━━━━━━━━━━━━━━━━━━━━━━━━━━━━━━━━━━━━\u001b[0m \u001b[32m1.3/1.3 MB\u001b[0m \u001b[31m18.7 MB/s\u001b[0m eta \u001b[36m0:00:00\u001b[0m\n",
            "\u001b[?25hInstalling collected packages: sentencepiece\n",
            "Successfully installed sentencepiece-0.1.97\n"
          ]
        }
      ]
    },
    {
      "cell_type": "code",
      "source": [
        "import pandas as pd\n",
        "import torch\n",
        "from torch.utils.data import DataLoader, Dataset\n",
        "from transformers import BartForConditionalGeneration, BartTokenizerFast\n",
        "\n",
        "\n",
        "\n",
        "# BART 모델 불러오기\n",
        "model = BartForConditionalGeneration.from_pretrained(\"hyunwoongko/kobart\")\n",
        "\n",
        "# Tokenizer 정의하기\n",
        "tokenizer = BartTokenizerFast.from_pretrained(\"hyunwoongko/kobart\")\n",
        "\n",
        "# 학습용 DataLoader 정의하기\n",
        "class Dataset(Dataset):\n",
        "    def __init__(self, dataframe, tokenizer, max_length):\n",
        "        self.data = dataframe\n",
        "        self.tokenizer = tokenizer\n",
        "        self.max_length = max_length\n",
        "    \n",
        "    def __len__(self):\n",
        "        return len(self.data)\n",
        "    \n",
        "    def __getitem__(self, index):\n",
        "        row = self.data.iloc[index]\n",
        "        text = row['passage']\n",
        "        summary = row['summary']\n",
        "        input_ids = self.tokenizer.encode(text, max_length=self.max_length, truncation=True, padding='max_length', return_tensors='pt')\n",
        "        output_ids = self.tokenizer.encode(summary, max_length=self.max_length, truncation=True, padding='max_length', return_tensors='pt')\n",
        "        return {'input_ids': input_ids.squeeze(),  'decoder_input_ids': output_ids.squeeze()[:-1], 'decoder_output_ids': output_ids.squeeze()[1:]}\n",
        "\n",
        "\n",
        "\n",
        "batch_size = 4\n",
        "dataset = Dataset(data, tokenizer, max_length=500)\n",
        "dataloader = DataLoader(dataset, batch_size=batch_size, shuffle=True)\n",
        "\n",
        "\n",
        "\n"
      ],
      "metadata": {
        "colab": {
          "base_uri": "https://localhost:8080/"
        },
        "id": "xUP5Jh1MFuVw",
        "outputId": "5bb74d66-8e1e-420e-c58b-19c96ca2955c"
      },
      "execution_count": 2,
      "outputs": [
        {
          "output_type": "stream",
          "name": "stderr",
          "text": [
            "You passed along `num_labels=3` with an incompatible id to label map: {'0': 'NEGATIVE', '1': 'POSITIVE'}. The number of labels wil be overwritten to 2.\n",
            "The tokenizer class you load from this checkpoint is not the same type as the class this function is called from. It may result in unexpected tokenization. \n",
            "The tokenizer class you load from this checkpoint is 'PreTrainedTokenizerFast'. \n",
            "The class this function is called from is 'BartTokenizerFast'.\n"
          ]
        }
      ]
    },
    {
      "cell_type": "code",
      "source": [
        "# 학습하기\n",
        "device = torch.device('cuda' if torch.cuda.is_available() else 'cpu')\n",
        "model.to(device)\n",
        "model.train()\n",
        "\n",
        "optimizer = torch.optim.AdamW(model.parameters(), lr=1e-5)\n",
        "num_epochs = 1\n",
        "for epoch in range(num_epochs):\n",
        "  for batch in dataloader:\n",
        "          input_ids = batch['input_ids'].to(device)\n",
        "       \n",
        "          decoder_input_ids = batch['decoder_input_ids'].to(device)\n",
        "        \n",
        "          decoder_output_ids = batch['decoder_output_ids'].to(device)\n",
        "        \n",
        "          outputs = model(input_ids=input_ids, decoder_input_ids=decoder_input_ids, labels=decoder_output_ids)\n",
        "          loss = outputs.loss\n",
        "    \n",
        "          loss.backward()\n",
        "          optimizer.step()\n",
        "          optimizer.zero_grad()\n",
        "# for epoch in range(num_epochs):\n",
        "#    for batch in dataloader:\n",
        "#          batch_input_ids = batch['input_ids'].to(device)\n",
        "#          #batch_decoder_input_ids = batch['decoder_input_ids'].to(device)\n",
        "#          batch_labels = batch['decoder_output_ids'].to(device)\n",
        "#          #output=model(batch_labels)\n",
        "#          optimizer.step()\n",
        "#          optimizer.zero_grad()\n",
        "        \n",
        "    \n",
        "\n",
        "# 모델 저장하기\n",
        "model_path = 'summarization2.pt'\n",
        "model.save_pretrained(model_path)"
      ],
      "metadata": {
        "id": "3sbYLXIH-ync"
      },
      "execution_count": 3,
      "outputs": []
    },
    {
      "cell_type": "code",
      "source": [
        "import torch\n",
        "from transformers import BartForConditionalGeneration, BartTokenizerFast\n",
        "\n",
        "model_path = 'summarization2.pt'\n",
        "model = BartForConditionalGeneration.from_pretrained(model_path)\n",
        "tokenizer = BartTokenizerFast.from_pretrained(\"hyunwoongko/kobart\")\n",
        "\n",
        "def generate_summary(input_text):\n",
        "    input_ids = tokenizer.encode(input_text, max_length=500, truncation=True, padding='max_length', return_tensors='pt').to(device)\n",
        "    summary_ids = model.generate(input_ids, max_length=128, num_beams=4, early_stopping=True)\n",
        "    summary = tokenizer.decode(summary_ids[0], skip_special_tokens=True)\n",
        "    return summary\n",
        "data = \"본 연구는 코로나19 이후 초등학생의 신체활동량과 신체적자기개념, 그리고 긍정심리자본의 관계를 탐색하고자 하였다. 구체적으로 운동참여가 긍정심리자본에 영향력을 행사하는 과정에서 신체적자기개념의 매개효과를 검증하고자 하였다. 이를 위해 초등학교 6학년에 재학 중인 97명의 학생들을 대상으로 주간운동빈도, 주간운동시간, 신체적자기개념, 긍정심리자본을 측정하는 설문조사를 실시하였고, 수집된 자료를 바탕으로 기술통계분석, 상관분석, 구조방정식 모형 검증을 실시하였다. 본 연구를 수행한 결과, 초등학생들의 운동참여수준(주간운동빈도, 주간운동시간) 은 신체적자기개념 및 긍정심리자본의 모든 하위요인들과 정적 상관관계가 나타났다. 또한 신체적자기개념은 운동참여수준과 긍정심리자본의 관계를 부분적으로 매개하는 것으로 나타났다. 본 연구의 결과를 통해 운동에 자주 참여하거나 운동에 참여하는 시간이 많은 학생일수록 자신의 신체에 대해서 긍정적으로 인식하고, 일상생활에서의 희망, 낙관성, 탄력성, 효능감을 가진다는 것을 확인하였으며, 초등학생들이 운동에 참여함으로써 향상된 신체적자기개념이 긍정심리자본의 향상으로 이어질 수 있다는 것을 실증적으로 규명하였다.\"\n",
        "generate_summary(data)"
      ],
      "metadata": {
        "colab": {
          "base_uri": "https://localhost:8080/",
          "height": 128
        },
        "id": "IBFQfq2rKNdM",
        "outputId": "feff4ccc-79fd-4c32-de00-ca5378f69c82"
      },
      "execution_count": 11,
      "outputs": [
        {
          "output_type": "stream",
          "name": "stderr",
          "text": [
            "You passed along `num_labels=3` with an incompatible id to label map: {'0': 'NEGATIVE', '1': 'POSITIVE'}. The number of labels wil be overwritten to 2.\n",
            "The tokenizer class you load from this checkpoint is not the same type as the class this function is called from. It may result in unexpected tokenization. \n",
            "The tokenizer class you load from this checkpoint is 'PreTrainedTokenizerFast'. \n",
            "The class this function is called from is 'BartTokenizerFast'.\n"
          ]
        },
        {
          "output_type": "execute_result",
          "data": {
            "text/plain": [
              "'본 연구는 코로나19 이후 초등학생의 운동참여가 긍정심리자본에 영향력을 행사하는 과정에서 신체적자기개념의 매개효과를 검증하고자 하였다.'"
            ],
            "application/vnd.google.colaboratory.intrinsic+json": {
              "type": "string"
            }
          },
          "metadata": {},
          "execution_count": 11
        }
      ]
    },
    {
      "cell_type": "code",
      "source": [
        "import torch\n",
        "from transformers import BartForConditionalGeneration, BartTokenizerFast\n",
        "\n",
        "class SummarizationModel:\n",
        "    def __init__(self, model_path):\n",
        "        model = BartForConditionalGeneration.from_pretrained(model_path)\n",
        "        tokenizer = BartTokenizerFast.from_pretrained(\"hyunwoongko/kobart\")\n",
        "\n",
        "    def generate_summary(self, text):\n",
        "        input_ids = tokenizer.encode(text, max_length=500, truncation=True, padding='max_length', return_tensors='pt').to(device)\n",
        "        summary_ids = model.generate(input_ids, max_length=128, num_beams=4, early_stopping=True)\n",
        "        summary = tokenizer.decode(summary_ids[0], skip_special_tokens=True)\n",
        "        return summary\n"
      ],
      "metadata": {
        "id": "EHZYpIGwNbO_"
      },
      "execution_count": null,
      "outputs": []
    },
    {
      "cell_type": "code",
      "source": [
        "import torch\n",
        "from transformers import BartForConditionalGeneration\n",
        "\n",
        "class SummarizationModel:\n",
        "    def __init__(self, model_path):\n",
        "        self.device = torch.device('cuda' if torch.cuda.is_available() else 'cpu')\n",
        "        self.model = BartForConditionalGeneration.from_pretrained(model_path)\n",
        "        self.model.to(self.device)\n",
        "        self.model.eval()\n",
        "        \n",
        "    def summarize(self, text):\n",
        "        input_ids = self.tokenizer.encode(text, max_length=500, truncation=True, padding='max_length', return_tensors='pt').to(self.device)\n",
        "        summary_ids = self.model.generate(input_ids=input_ids, max_length=150, num_beams=2, early_stopping=True)\n",
        "        summary = self.tokenizer.decode(summary_ids.squeeze(), skip_special_tokens=True)\n",
        "        return summary\n"
      ],
      "metadata": {
        "id": "HwCwrW_r9bXZ"
      },
      "execution_count": 6,
      "outputs": []
    },
    {
      "cell_type": "code",
      "source": [
        "import torch\n",
        "from transformers import BartForConditionalGeneration\n",
        "\n",
        "model_path = 'summarization2.pt'\n",
        "model = BartForConditionalGeneration.from_pretrained(model_path)\n",
        "\n",
        "torch.save(model.state_dict(), 'summarization2.py')\n"
      ],
      "metadata": {
        "colab": {
          "base_uri": "https://localhost:8080/"
        },
        "id": "WIBCzncXGjav",
        "outputId": "c7a22566-46b7-48ce-95fa-ca183e96aedb"
      },
      "execution_count": 21,
      "outputs": [
        {
          "output_type": "stream",
          "name": "stderr",
          "text": [
            "You passed along `num_labels=3` with an incompatible id to label map: {'0': 'NEGATIVE', '1': 'POSITIVE'}. The number of labels wil be overwritten to 2.\n"
          ]
        }
      ]
    },
    {
      "cell_type": "code",
      "source": [
        "!mkdir summarization_package\n"
      ],
      "metadata": {
        "id": "GbukePYpGqSX"
      },
      "execution_count": 22,
      "outputs": []
    },
    {
      "cell_type": "code",
      "source": [
        "!mv summarization2.pth summarization_package/\n"
      ],
      "metadata": {
        "id": "u9gJTr2eHB87"
      },
      "execution_count": 23,
      "outputs": []
    },
    {
      "cell_type": "code",
      "source": [
        "!touch summarization_package/__init__.py\n"
      ],
      "metadata": {
        "id": "ejFoBizuHICw"
      },
      "execution_count": 24,
      "outputs": []
    },
    {
      "cell_type": "code",
      "source": [
        "!touch summarization_package/setup.py"
      ],
      "metadata": {
        "colab": {
          "base_uri": "https://localhost:8080/"
        },
        "id": "CuhjjmCpIYuj",
        "outputId": "1deda257-d4f9-4e03-ad72-1b921b19872b"
      },
      "execution_count": 33,
      "outputs": [
        {
          "output_type": "stream",
          "name": "stdout",
          "text": [
            "touch: cannot touch 'summarization_package/setup.py': No such file or directory\n"
          ]
        }
      ]
    },
    {
      "cell_type": "code",
      "source": [
        "%pwd"
      ],
      "metadata": {
        "colab": {
          "base_uri": "https://localhost:8080/",
          "height": 35
        },
        "id": "CjTVfQgWHOna",
        "outputId": "1025297f-07f2-4531-9e54-5987a2cb9b3d"
      },
      "execution_count": 25,
      "outputs": [
        {
          "output_type": "execute_result",
          "data": {
            "text/plain": [
              "'/content'"
            ],
            "application/vnd.google.colaboratory.intrinsic+json": {
              "type": "string"
            }
          },
          "metadata": {},
          "execution_count": 25
        }
      ]
    },
    {
      "cell_type": "code",
      "source": [
        "%cd summarization_package/setup.py"
      ],
      "metadata": {
        "colab": {
          "base_uri": "https://localhost:8080/"
        },
        "id": "wqbZMIaQHR-B",
        "outputId": "8fa705b7-c5d1-4e94-dfd1-7b7daf22fed2"
      },
      "execution_count": 34,
      "outputs": [
        {
          "output_type": "stream",
          "name": "stdout",
          "text": [
            "[Errno 2] No such file or directory: 'summarization_package/setup.py'\n",
            "/content/summarization_package\n"
          ]
        }
      ]
    },
    {
      "cell_type": "code",
      "source": [
        "!touch summarization_package/setup.py\n"
      ],
      "metadata": {
        "colab": {
          "base_uri": "https://localhost:8080/"
        },
        "id": "7-BwDsqzJIYM",
        "outputId": "93a999df-bc47-4aa7-bfbd-db44bc773bfc"
      },
      "execution_count": 35,
      "outputs": [
        {
          "output_type": "stream",
          "name": "stdout",
          "text": [
            "touch: cannot touch 'summarization_package/setup.py': No such file or directory\n"
          ]
        }
      ]
    },
    {
      "cell_type": "code",
      "source": [
        "# setup.py\n",
        "from setuptools import setup, find_packages\n",
        "\n",
        "setup(\n",
        "    name='summarization_package',\n",
        "    version='0.1',\n",
        "    packages=find_packages(),\n",
        "    install_requires=[\n",
        "        'torch',\n",
        "        'transformers'\n",
        "    ]\n",
        ")\n"
      ],
      "metadata": {
        "colab": {
          "base_uri": "https://localhost:8080/",
          "height": 245
        },
        "id": "pkBTPpdSIL2P",
        "outputId": "883ccbab-9600-46a7-a886-0cf3e5d4131c"
      },
      "execution_count": 36,
      "outputs": [
        {
          "output_type": "error",
          "ename": "SystemExit",
          "evalue": "ignored",
          "traceback": [
            "An exception has occurred, use %tb to see the full traceback.\n",
            "\u001b[0;31mSystemExit\u001b[0m\u001b[0;31m:\u001b[0m usage: ipykernel_launcher.py [global_opts] cmd1 [cmd1_opts] [cmd2 [cmd2_opts] ...]\n   or: ipykernel_launcher.py --help [cmd1 cmd2 ...]\n   or: ipykernel_launcher.py --help-commands\n   or: ipykernel_launcher.py cmd --help\n\nerror: option -f not recognized\n"
          ]
        },
        {
          "output_type": "stream",
          "name": "stderr",
          "text": [
            "/usr/local/lib/python3.9/dist-packages/IPython/core/interactiveshell.py:3334: UserWarning: To exit: use 'exit', 'quit', or Ctrl-D.\n",
            "  warn(\"To exit: use 'exit', 'quit', or Ctrl-D.\", stacklevel=1)\n"
          ]
        }
      ]
    },
    {
      "cell_type": "code",
      "source": [
        "!python setup.py sdist bdist_wheel\n"
      ],
      "metadata": {
        "colab": {
          "base_uri": "https://localhost:8080/"
        },
        "id": "dLxwhe2WOiC3",
        "outputId": "edfb9ef0-0d47-4e89-9dd7-840f1cbac6e6"
      },
      "execution_count": 39,
      "outputs": [
        {
          "output_type": "stream",
          "name": "stdout",
          "text": [
            "running sdist\n",
            "running egg_info\n",
            "creating summarization2.egg-info\n",
            "writing summarization2.egg-info/PKG-INFO\n",
            "writing dependency_links to summarization2.egg-info/dependency_links.txt\n",
            "writing requirements to summarization2.egg-info/requires.txt\n",
            "writing top-level names to summarization2.egg-info/top_level.txt\n",
            "writing manifest file 'summarization2.egg-info/SOURCES.txt'\n",
            "error: package directory 'summarization2' does not exist\n"
          ]
        }
      ]
    }
  ]
}